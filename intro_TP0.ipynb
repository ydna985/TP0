{
 "cells": [
  {
   "attachments": {},
   "cell_type": "markdown",
   "metadata": {},
   "source": [
    "# Bienvenue au TP0 du cours INF1007! :computer:\n",
    "\n",
    "<iframe src='https://gfycat.com/ifr/AdmiredUnlawfulBronco' frameborder='0' scrolling='no' allowfullscreen width='640' height='684'></iframe><p> <a href=\"https://gfycat.com/admiredunlawfulbronco\">via Gfycat</a></p>\n"
   ]
  },
  {
   "attachments": {},
   "cell_type": "markdown",
   "metadata": {},
   "source": [
    "## Remise des TPs et projets\n",
    "\n",
    "Il y aura 4 TPs (20%) et 2 projets (20%) notés cette session! À noter:\n",
    "+ Les TPs sont réalisés en équipe et les projets sont individuels\n",
    "+ Des liens GitHub vers les répertoires des TPs/projets seront donnés en début de séance\n",
    "+ Les rendus se font uniquement via la plateforme Moodle\n",
    "+ Ceux-ci sont réalisés en alternance durant les séances de laboratoires\n",
    "+ Les projets sont généralement plus long et durent donc sur 3 à 4 semaines tandis que les TPs durent en général 2 semaines\n",
    "+ Nous sommes ici pour répondre à vos questions durant les séances! \n",
    "  \n",
    "Voici les dates de remises:\n",
    "\n",
    "| TP / Projet      | Remise | Matière principale concernée     |\n",
    "| :---        |    :----:   |          ---: |\n",
    "| TP1      | 24 septembre 2023       | Chapitre 1 à 5 |\n",
    "| TP2      | 8 octobre 2023       | Chapitre 6 à 7   |\n",
    "| TP3      | 5 novembre 2023       | Chapitre 7 à 9   |\n",
    "| TP4      | 3 décembre 2023       | Chapitre 10 et 11   |\n",
    "|        |      |           |\n",
    "| Projet1      | 8 octobre 2023       | Chapitre 1 à 7   |\n",
    "| Projet2      | 20 novembre 2023       | Chapitre 7 à 11  |\n",
    "\n",
    "*Ces informations sont aussi disponibles sur le Moodle du cours*\n",
    "\n",
    "### Formation des équipes\n",
    "Le choix de votre partenaire se fera via Moodle sous l'onglet Travaux pratiques > Choix d'équipe de travaux pratiques à compléter aujourd'hui préférablement!"
   ]
  },
  {
   "attachments": {},
   "cell_type": "markdown",
   "metadata": {},
   "source": [
    "## Liens intéressants pour vous aider à commencer!\n",
    "\n",
    "1. [Installation d'un environnement PyCharm](https://www.youtube.com/watch?v=2MYizr_jnzU&list=PLVijXUSfTzYf4s6YGH3zwbCt6L5coc-Pc&index=26&ab_channel=BenjaminDeLeener)*\n",
    "2. [Cours d'introduction sur Git et GitHub](https://emdupre.github.io/git-course/)\n",
    "3. [Lien vers un site montrant/réglant les fautes les plus communes sur Git](https://dangitgit.com/)\n",
    "4. [Stack Overflow pour répondre à vos problèmes syntaxiques et/ou algorithmiques](https://stackoverflow.com/)\n",
    "\n",
    "Il y a également d'autres informations additionnelles dans la section *Ressources utiles* sur Moodle\n",
    "\n",
    "\\* À noter que vous pouvez aussi utiliser Visual Studio Code si vous y êtes déjà habitué et le principe d'installation est similaire et disponible au [lien suivant](https://code.visualstudio.com/?wt.mc_id=vscom_downloads)"
   ]
  },
  {
   "attachments": {},
   "cell_type": "markdown",
   "metadata": {},
   "source": [
    "## Rendez-vous sur le README sur la page GitHub...\n",
    "\n",
    "Ce premier tutoriel est simplement une familiarisation avec votre environnement de travail ainsi que les commandes Git/GitHub que vous allez utiliser le plus souvent durant les TPs/Projets de ce cours. Il y a plusieurs façon d'utiliser Git, mais les commandes via un terminal seront présentées. En effet, lorsque l'utilisation via un terminal est comprise, transposer ses connaissances vers les outils graphiques disponibles dans Visual Studio ou PyCharm ou alors GitHub Desktop est un jeu d'enfant!"
   ]
  }
 ],
 "metadata": {
  "kernelspec": {
   "display_name": "base",
   "language": "python",
   "name": "python3"
  },
  "language_info": {
   "name": "python",
   "version": "3.7.4 (default, Aug  9 2019, 18:34:13) [MSC v.1915 64 bit (AMD64)]"
  },
  "orig_nbformat": 4,
  "vscode": {
   "interpreter": {
    "hash": "a7988532f152c91f2babc9af24f9da5f50a7faa68f11294c116577575353f74e"
   }
  }
 },
 "nbformat": 4,
 "nbformat_minor": 2
}
